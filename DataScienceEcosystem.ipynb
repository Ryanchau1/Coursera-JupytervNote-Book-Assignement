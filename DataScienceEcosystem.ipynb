{
 "cells": [
  {
   "cell_type": "markdown",
   "id": "01af355b-4140-46ad-bf1e-eb734dd7083d",
   "metadata": {},
   "source": [
    "Data Science Tools and Ecosystem"
   ]
  },
  {
   "cell_type": "markdown",
   "id": "45211a95-c080-4a81-a3a2-f56655cb027c",
   "metadata": {},
   "source": [
    "In this notebook, Data Science Tools and Ecosystem are summarized."
   ]
  },
  {
   "cell_type": "markdown",
   "id": "1d1d72f2-c199-401e-bf40-b5a7bd623d2b",
   "metadata": {},
   "source": [
    "Some of the popular languages that Data Scientists use are:"
   ]
  },
  {
   "cell_type": "code",
   "execution_count": 1,
   "id": "a537aa23-c963-4e87-8dc3-74570f3aa9d5",
   "metadata": {
    "tags": []
   },
   "outputs": [],
   "source": [
    "myList = [\"Python\", \"Rstudio\", \"Julia\",]"
   ]
  },
  {
   "cell_type": "markdown",
   "id": "6102dafb-ae73-411f-b8bf-6cdc595ebf16",
   "metadata": {},
   "source": [
    "Some of the commonly used libraries used by Data Scientists include:"
   ]
  },
  {
   "cell_type": "code",
   "execution_count": 2,
   "id": "025596af-0664-42ce-915d-4e78efff396b",
   "metadata": {
    "tags": []
   },
   "outputs": [],
   "source": [
    "myList = [\"NumPy\", \"Pandas\", \"Matplotlib\",]"
   ]
  },
  {
   "cell_type": "markdown",
   "id": "440778dd-4f1d-4c85-af8e-9c0933c2c91c",
   "metadata": {},
   "source": [
    "Data Science Tools\n",
    "_________________\n",
    "|SAS|\n",
    "\n",
    "|Apache Hodoop|\n",
    "\n",
    "|TensorFlow|"
   ]
  },
  {
   "cell_type": "code",
   "execution_count": 3,
   "id": "564db494-95ac-4738-ac04-0f0e082fedf8",
   "metadata": {
    "tags": []
   },
   "outputs": [
    {
     "data": {
      "text/plain": [
       "4"
      ]
     },
     "execution_count": 3,
     "metadata": {},
     "output_type": "execute_result"
    }
   ],
   "source": [
    "#Below are a few examples of evaluating arithmetic expressions in Python\n",
    "2+2"
   ]
  },
  {
   "cell_type": "code",
   "execution_count": 4,
   "id": "de28c5b5-c878-47d4-9417-65ceb6249fb3",
   "metadata": {
    "tags": []
   },
   "outputs": [
    {
     "data": {
      "text/plain": [
       "0"
      ]
     },
     "execution_count": 4,
     "metadata": {},
     "output_type": "execute_result"
    }
   ],
   "source": [
    "2-2"
   ]
  },
  {
   "cell_type": "code",
   "execution_count": 5,
   "id": "2e420bfc-cc6c-4969-aba7-f9cffecc2167",
   "metadata": {
    "tags": []
   },
   "outputs": [
    {
     "data": {
      "text/plain": [
       "0"
      ]
     },
     "execution_count": 5,
     "metadata": {},
     "output_type": "execute_result"
    }
   ],
   "source": [
    "2^2"
   ]
  },
  {
   "cell_type": "code",
   "execution_count": 6,
   "id": "e10e9205-ee29-40d2-b760-9deb7fe132ef",
   "metadata": {
    "tags": []
   },
   "outputs": [
    {
     "data": {
      "text/plain": [
       "1.0"
      ]
     },
     "execution_count": 6,
     "metadata": {},
     "output_type": "execute_result"
    }
   ],
   "source": [
    "2/2"
   ]
  },
  {
   "cell_type": "code",
   "execution_count": 7,
   "id": "215fb76a-d7ca-4a84-bc17-9a26be1f8261",
   "metadata": {
    "tags": []
   },
   "outputs": [
    {
     "data": {
      "text/plain": [
       "17"
      ]
     },
     "execution_count": 7,
     "metadata": {},
     "output_type": "execute_result"
    }
   ],
   "source": [
    "#this a simple arithmetic expression to mutiply then add integers\n",
    "(3*4)+5"
   ]
  },
  {
   "cell_type": "code",
   "execution_count": 8,
   "id": "af56b417-c5dd-444b-8064-0dc2fc373008",
   "metadata": {
    "tags": []
   },
   "outputs": [
    {
     "data": {
      "text/plain": [
       "3"
      ]
     },
     "execution_count": 8,
     "metadata": {},
     "output_type": "execute_result"
    }
   ],
   "source": [
    "#This will convert 200 minutes to hours by diving by 60\n",
    "200 // 60"
   ]
  },
  {
   "cell_type": "markdown",
   "id": "d37336b7-be2b-4f73-8c4a-8c9eb0ca3685",
   "metadata": {},
   "source": [
    "_Unordered list_\n",
    "       \n",
    "       *JavaScript\n",
    "\n",
    "       *SQL\n",
    "       \n",
    "       *Python\n",
    "       \n",
    "       *Apache"
   ]
  },
  {
   "cell_type": "markdown",
   "id": "3fb7a686-810b-4a89-a192-9ce8a2afafca",
   "metadata": {},
   "source": [
    "## AUTHOR\n",
    "Ryan Chau"
   ]
  },
  {
   "cell_type": "code",
   "execution_count": null,
   "id": "aaace9a0-f5a7-4e36-bc0f-3a795a33e4c9",
   "metadata": {},
   "outputs": [],
   "source": []
  }
 ],
 "metadata": {
  "kernelspec": {
   "display_name": "Python",
   "language": "python",
   "name": "conda-env-python-py"
  },
  "language_info": {
   "codemirror_mode": {
    "name": "ipython",
    "version": 3
   },
   "file_extension": ".py",
   "mimetype": "text/x-python",
   "name": "python",
   "nbconvert_exporter": "python",
   "pygments_lexer": "ipython3",
   "version": "3.7.12"
  }
 },
 "nbformat": 4,
 "nbformat_minor": 5
}
